{
 "cells": [
  {
   "cell_type": "code",
   "execution_count": 1,
   "metadata": {},
   "outputs": [],
   "source": [
    "import torch\n",
    "import torch.nn as nn\n",
    "from torch.nn import BCEWithLogitsLoss\n",
    "from torch.distributions import Normal\n",
    "\n",
    "import math\n",
    "import time\n",
    "\n",
    "from Data import *\n",
    "from nets.hyper_net import HyperNetwork \n",
    "from flows.build import build_flow\n",
    "from plot_utils import plot_cnf_animation"
   ]
  },
  {
   "cell_type": "code",
   "execution_count": 2,
   "metadata": {},
   "outputs": [
    {
     "data": {
      "text/plain": [
       "'cuda'"
      ]
     },
     "execution_count": 2,
     "metadata": {},
     "output_type": "execute_result"
    }
   ],
   "source": [
    "device = 'cuda' if torch.cuda.is_available() else 'cpu'\n",
    "device"
   ]
  },
  {
   "cell_type": "code",
   "execution_count": 3,
   "metadata": {},
   "outputs": [],
   "source": [
    "def base_dist():\n",
    "    return Normal(\n",
    "        loc=torch.zeros(2, device=device),\n",
    "        scale=torch.ones(2, device=device),\n",
    "    )"
   ]
  },
  {
   "cell_type": "code",
   "execution_count": 4,
   "metadata": {},
   "outputs": [],
   "source": [
    "batch_size = 32\n",
    "dset = 'two_blobs'\n",
    "Data = Data(dset +'.csv')\n",
    "d = Data.read_csv().to(device)\n",
    "\n",
    "train_dataloader, test_dataloader = Data.return_dataloaders(batch_size = batch_size)\n",
    "\n",
    "num_batches = train_dataloader.__len__()\n",
    " "
   ]
  },
  {
   "cell_type": "code",
   "execution_count": 5,
   "metadata": {},
   "outputs": [
    {
     "data": {
      "text/plain": [
       "<matplotlib.collections.PathCollection at 0x7f65e02ff5e0>"
      ]
     },
     "execution_count": 5,
     "metadata": {},
     "output_type": "execute_result"
    },
    {
     "data": {
      "image/png": "[encoded data removed]",
      "text/plain": [
       "<Figure size 432x288 with 1 Axes>"
      ]
     },
     "metadata": {
      "needs_background": "light"
     },
     "output_type": "display_data"
    }
   ],
   "source": [
    "Data.plot_scatter()"
   ]
  },
  {
   "cell_type": "markdown",
   "metadata": {},
   "source": [
    "## CNF"
   ]
  },
  {
   "cell_type": "code",
   "execution_count": 6,
   "metadata": {},
   "outputs": [
    {
     "data": {
      "text/plain": [
       "'\\nt1 sample \\nflow(t1) = t0\\nt1_ = t0 -log p diff t0\\n\\nprob(t1_) as high as possible \\n\\n'"
      ]
     },
     "execution_count": 6,
     "metadata": {},
     "output_type": "execute_result"
    }
   ],
   "source": [
    "'''\n",
    "t1 sample \n",
    "flow(t1) = t0\n",
    "t1_ = t0 -log p diff t0\n",
    "\n",
    "prob(t1_) as high as possible \n",
    "\n",
    "'''"
   ]
  },
  {
   "cell_type": "code",
   "execution_count": 7,
   "metadata": {},
   "outputs": [],
   "source": [
    "# model and flow parameters\n",
    "hidden_dim = 32\n",
    "width      = 64\n",
    "t0 = 0  # flow start time\n",
    "t1 = 1  # flow end time\n",
    "\n",
    "net = HyperNetwork(in_out_dim=2, hidden_dim=hidden_dim, width=width)"
   ]
  },
  {
   "cell_type": "code",
   "execution_count": 8,
   "metadata": {},
   "outputs": [],
   "source": [
    "flow_cnf = build_flow(name = 'continuous', net = net,  dim= 1, device = device).flow.to(device)"
   ]
  },
  {
   "cell_type": "code",
   "execution_count": 9,
   "metadata": {
    "scrolled": true
   },
   "outputs": [
    {
     "data": {
      "text/plain": [
       "Flow(\n",
       "  (flow): ModuleList(\n",
       "    (0): CNF(\n",
       "      (net): HyperNetwork(\n",
       "        (fc1): Linear(in_features=1, out_features=32, bias=True)\n",
       "        (fc2): Linear(in_features=32, out_features=32, bias=True)\n",
       "        (fc3): Linear(in_features=32, out_features=448, bias=True)\n",
       "      )\n",
       "    )\n",
       "  )\n",
       ")"
      ]
     },
     "execution_count": 9,
     "metadata": {},
     "output_type": "execute_result"
    }
   ],
   "source": [
    "flow_cnf"
   ]
  },
  {
   "cell_type": "code",
   "execution_count": null,
   "metadata": {
    "scrolled": true
   },
   "outputs": [
    {
     "name": "stdout",
     "output_type": "stream",
     "text": [
      "Training...\n",
      "Epoch: 1/100, Loss: 1.783\n",
      "Epoch: 2/100, Loss: 0.008\n",
      "Epoch: 3/100, Loss: -0.594\n",
      "Epoch: 4/100, Loss: -0.868\n",
      "Epoch: 5/100, Loss: -0.966\n",
      "Epoch: 6/100, Loss: -1.351\n",
      "Epoch: 7/100, Loss: -1.089\n",
      "Epoch: 8/100, Loss: -1.567\n",
      "Epoch: 9/100, Loss: -1.894\n",
      "Epoch: 10/100, Loss: -1.869\n",
      "Epoch: 11/100, Loss: -2.028\n",
      "Epoch: 12/100, Loss: -1.916\n",
      "Epoch: 13/100, Loss: -1.921\n",
      "Epoch: 14/100, Loss: -1.988\n",
      "Epoch: 15/100, Loss: -2.171\n",
      "Epoch: 16/100, Loss: -2.155\n",
      "Epoch: 17/100, Loss: -2.427\n",
      "Epoch: 18/100, Loss: -2.106\n",
      "Epoch: 19/100, Loss: -2.274\n",
      "Epoch: 20/100, Loss: -2.337\n",
      "Epoch: 21/100, Loss: -2.233\n",
      "Epoch: 22/100, Loss: -2.295\n",
      "Epoch: 23/100, Loss: -2.383\n",
      "Epoch: 24/100, Loss: -2.280\n",
      "Epoch: 25/100, Loss: -2.085\n",
      "Epoch: 26/100, Loss: -2.079\n",
      "Epoch: 27/100, Loss: -2.208\n",
      "Epoch: 28/100, Loss: -2.213\n",
      "Epoch: 29/100, Loss: -2.543\n",
      "Epoch: 30/100, Loss: -2.213\n",
      "Epoch: 31/100, Loss: -2.341\n",
      "Epoch: 32/100, Loss: -2.344\n",
      "Epoch: 33/100, Loss: -2.387\n",
      "Epoch: 34/100, Loss: -2.466\n",
      "Epoch: 35/100, Loss: -2.474\n",
      "Epoch: 36/100, Loss: -2.446\n",
      "Epoch: 37/100, Loss: -2.572\n",
      "Epoch: 38/100, Loss: -2.156\n",
      "Epoch: 39/100, Loss: -2.390\n",
      "Epoch: 40/100, Loss: -2.528\n",
      "Epoch: 41/100, Loss: -2.172\n",
      "Epoch: 42/100, Loss: -2.125\n",
      "Epoch: 43/100, Loss: -2.487\n",
      "Epoch: 44/100, Loss: -2.506\n",
      "Epoch: 45/100, Loss: -2.252\n",
      "Epoch: 46/100, Loss: -2.479\n",
      "Epoch: 47/100, Loss: -2.216\n",
      "Epoch: 48/100, Loss: -2.273\n",
      "Epoch: 49/100, Loss: -2.274\n",
      "Epoch: 50/100, Loss: -2.477\n",
      "Epoch: 51/100, Loss: -2.521\n",
      "Epoch: 52/100, Loss: -2.472\n",
      "Epoch: 53/100, Loss: -2.595\n",
      "Epoch: 54/100, Loss: -2.392\n"
     ]
    }
   ],
   "source": [
    "start  = time.time()\n",
    "\n",
    "#Train\n",
    "\n",
    "optimizer = torch.optim.Adam(flow_cnf.parameters(), lr=3e-3)\n",
    "\n",
    "epochs = 100 #300\n",
    "\n",
    "print('Training...')\n",
    "flow_cnf = flow_cnf.train()\n",
    "ts = torch.tensor([t1, t0]).type(torch.float32).to(device) # for training, we flow the samples backward (in time) \n",
    "a=0\n",
    "z0=[]\n",
    "\n",
    "for epoch in range(1, epochs):\n",
    "    loss_sum = 0.0\n",
    "    for i, x in enumerate(train_dataloader):\n",
    "        x1 = x.to(device)\n",
    "        optimizer.zero_grad()\n",
    "        a+= x1.size()[0]\n",
    "        # initialize initial densities\n",
    "        logp_diff_t1 = torch.zeros(x1.size()[0], 1).type(torch.float32).to(device)\n",
    "\n",
    "        # compute the backward solutions\n",
    "        ip = (ts, x1, logp_diff_t1)\n",
    "        z_t,  logp_diff_t  = flow_cnf.flow_outputs(ip) # outputs time first\n",
    "        z_t0, logp_diff_t0 = z_t[-1], logp_diff_t[-1]\n",
    "        z0.append(z_t0.detach().cpu())\n",
    "\n",
    "        # compute the density of each sample\n",
    "        logp_x = base_dist().log_prob(z_t0).to(device) - logp_diff_t0 #.view(-1)\n",
    "        loss   = -logp_x.mean(0)\n",
    "        loss.sum().backward()\n",
    "        optimizer.step()\n",
    "        loss_sum += loss.sum().detach().cpu().item()\n",
    "        \n",
    "    if epoch %1 == 0 :    \n",
    "        print('Epoch: {}/{}, Loss: {:.3f}'.format(epoch, epochs, loss_sum/len(train_dataloader)))\n",
    "flow_cnf = flow_cnf.eval()\n",
    "\n",
    "end = time.time()\n",
    "print('Training takes ', (end-start)/3600, ' hrs')\n",
    "        \n"
   ]
  },
  {
   "cell_type": "code",
   "execution_count": null,
   "metadata": {
    "scrolled": false
   },
   "outputs": [],
   "source": [
    "z = flow_cnf.sample(450)[0]\n",
    "x_dash = flow_cnf.sample(450)[1]\n",
    "\n",
    "fig = Data.plot_samples(z, x_dash, r'z ~ p(z)', r'X = g(z)')\n",
    "fig.savefig('results/CNF_'+ dset +'_1.pdf')"
   ]
  },
  {
   "cell_type": "markdown",
   "metadata": {},
   "source": [
    "## Back to prior space"
   ]
  },
  {
   "cell_type": "code",
   "execution_count": null,
   "metadata": {},
   "outputs": [],
   "source": [
    "### After training\n",
    "\n",
    "logp_diff_t1 = torch.zeros(d.size()[0], 1).type(torch.float32).to(device) \n",
    "\n",
    "ip = (ts, d, logp_diff_t1)\n",
    "z_t,  logp_diff_t  = flow_cnf.flow_outputs(ip) # outputs time first\n",
    "z_t0, _ = z_t[-1], logp_diff_t[-1]\n",
    "\n",
    "fig = Data.plot_samples(d, z_t0, r'X ~ p(X)', r'z = f(X)')\n",
    "fig.savefig('results/CNF_'+ dset +'_2.pdf'')"
   ]
  },
  {
   "cell_type": "code",
   "execution_count": null,
   "metadata": {},
   "outputs": [],
   "source": []
  }
 ],
 "metadata": {
  "kernelspec": {
   "display_name": "Python [conda env:lampe]",
   "language": "python",
   "name": "conda-env-lampe-py"
  },
  "language_info": {
   "codemirror_mode": {
    "name": "ipython",
    "version": 3
   },
   "file_extension": ".py",
   "mimetype": "text/x-python",
   "name": "python",
   "nbconvert_exporter": "python",
   "pygments_lexer": "ipython3",
   "version": "3.9.7"
  }
 },
 "nbformat": 4,
 "nbformat_minor": 4
}
