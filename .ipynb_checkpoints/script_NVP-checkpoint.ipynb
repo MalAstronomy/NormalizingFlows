{
 "cells": [
  {
   "cell_type": "code",
   "execution_count": 1,
   "metadata": {},
   "outputs": [],
   "source": [
    "import torch\n",
    "import torch.nn as nn\n",
    "from torch.nn import BCEWithLogitsLoss\n",
    "from torch.distributions import Normal\n",
    "\n",
    "import math\n",
    "\n",
    "from Data import *\n",
    "from nets.MLP import MLP\n",
    "from flows.build import build_flow"
   ]
  },
  {
   "cell_type": "code",
   "execution_count": 2,
   "metadata": {},
   "outputs": [],
   "source": [
    "device = 'cuda' if torch.cuda.is_available() else 'cpu'"
   ]
  },
  {
   "cell_type": "markdown",
   "metadata": {},
   "source": [
    "## Base distribution"
   ]
  },
  {
   "cell_type": "code",
   "execution_count": 3,
   "metadata": {},
   "outputs": [],
   "source": [
    "def base_dist():\n",
    "    return Normal(\n",
    "        loc=torch.zeros(2, device=device),\n",
    "        scale=torch.ones(2, device=device),\n",
    "    )"
   ]
  },
  {
   "cell_type": "code",
   "execution_count": 4,
   "metadata": {},
   "outputs": [],
   "source": [
    "batch_size = 2\n",
    "Data = Data('two_moons.csv')\n",
    "\n",
    "train_dataloader, test_dataloader = Data.return_dataloaders(batch_size = batch_size)\n",
    "\n",
    "num_batches = train_dataloader.__len__()\n",
    " "
   ]
  },
  {
   "cell_type": "code",
   "execution_count": 5,
   "metadata": {},
   "outputs": [
    {
     "data": {
      "text/plain": [
       "<matplotlib.collections.PathCollection at 0x7ff9f568a880>"
      ]
     },
     "execution_count": 5,
     "metadata": {},
     "output_type": "execute_result"
    },
    {
     "data": {
      "image/png": "[encoded data removed]",
      "text/plain": [
       "<Figure size 432x288 with 1 Axes>"
      ]
     },
     "metadata": {
      "needs_background": "light"
     },
     "output_type": "display_data"
    }
   ],
   "source": [
    "Data.plot_scatter()"
   ]
  },
  {
   "cell_type": "markdown",
   "metadata": {},
   "source": [
    "## RealNVP"
   ]
  },
  {
   "cell_type": "code",
   "execution_count": 6,
   "metadata": {},
   "outputs": [],
   "source": [
    "net = MLP(ip = 1, out = 2)\n",
    "# net\n",
    "def make_net():\n",
    "    return nn.Sequential(nn.Linear(1,256), nn.GELU(),\n",
    "                       nn.Linear(256,128), nn.GELU(),\n",
    "                       nn.Linear(128,2))"
   ]
  },
  {
   "cell_type": "code",
   "execution_count": null,
   "metadata": {},
   "outputs": [],
   "source": [
    "flow_realnvp = build_flow(name = 'realnvp', net = make_net(), dim= 7, device = device).flow.to(device)\n",
    "# print(flow_realnvp)"
   ]
  },
  {
   "cell_type": "code",
   "execution_count": null,
   "metadata": {},
   "outputs": [],
   "source": [
    "Data.plot_samples(flow_realnvp.sample(128000))"
   ]
  },
  {
   "cell_type": "code",
   "execution_count": null,
   "metadata": {
    "scrolled": true
   },
   "outputs": [],
   "source": [
    "#Train\n",
    "\n",
    "optimizer = torch.optim.Adam(flow_realnvp.parameters(), lr=1e-3)\n",
    "epochs = 500\n",
    "\n",
    "print('Training...')\n",
    "flow_realnvp = flow_realnvp.train()\n",
    "for epoch in range(epochs):\n",
    "    loss_sum = 0.0\n",
    "    for i, x in enumerate(train_dataloader):\n",
    "        x = x.to(device)\n",
    "        optimizer.zero_grad()\n",
    "        z, log_det = flow_realnvp.flow_outputs(x)\n",
    "        if torch.isnan(z).any() : \n",
    "            continue\n",
    "        log_prob = base_dist().log_prob(z).sum(1) + log_det\n",
    "        loss = -log_prob.mean()\n",
    "        loss.backward()\n",
    "        optimizer.step()\n",
    "        loss_sum += loss.detach().cpu().item()\n",
    "    print('Epoch: {}/{}, Loss: {:.3f}'.format(epoch+1, epochs, loss_sum/len(train_dataloader)))\n",
    "flow_realnvp = flow_realnvp.eval()"
   ]
  },
  {
   "cell_type": "code",
   "execution_count": null,
   "metadata": {},
   "outputs": [],
   "source": [
    "Data.plot_samples(flow_realnvp.sample(128000))"
   ]
  },
  {
   "cell_type": "code",
   "execution_count": null,
   "metadata": {},
   "outputs": [],
   "source": []
  },
  {
   "cell_type": "code",
   "execution_count": null,
   "metadata": {},
   "outputs": [],
   "source": [
    "# if batch_num % 10 == 0:\n",
    "#     print(f\"(batch_num {batch_num:05d}/{num_batches}) loss: {loss}\")"
   ]
  }
 ],
 "metadata": {
  "kernelspec": {
   "display_name": "Python [conda env:lampe]",
   "language": "python",
   "name": "conda-env-lampe-py"
  },
  "language_info": {
   "codemirror_mode": {
    "name": "ipython",
    "version": 3
   },
   "file_extension": ".py",
   "mimetype": "text/x-python",
   "name": "python",
   "nbconvert_exporter": "python",
   "pygments_lexer": "ipython3",
   "version": "3.9.7"
  }
 },
 "nbformat": 4,
 "nbformat_minor": 4
}
