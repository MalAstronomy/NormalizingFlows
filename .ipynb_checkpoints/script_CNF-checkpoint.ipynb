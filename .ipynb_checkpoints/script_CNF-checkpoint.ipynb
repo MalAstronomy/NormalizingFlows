{
 "cells": [
  {
   "cell_type": "code",
   "execution_count": 1,
   "metadata": {},
   "outputs": [],
   "source": [
    "import torch\n",
    "import torch.nn as nn\n",
    "from torch.nn import BCEWithLogitsLoss\n",
    "from torch.distributions import Normal\n",
    "\n",
    "import math\n",
    "import time\n",
    "\n",
    "from Data import *\n",
    "from nets.hyper_net import HyperNetwork \n",
    "from flows.build import build_flow\n",
    "from plot_utils import plot_cnf_animation"
   ]
  },
  {
   "cell_type": "code",
   "execution_count": 2,
   "metadata": {},
   "outputs": [
    {
     "data": {
      "text/plain": [
       "'cuda'"
      ]
     },
     "execution_count": 2,
     "metadata": {},
     "output_type": "execute_result"
    }
   ],
   "source": [
    "device = 'cuda' if torch.cuda.is_available() else 'cpu'\n",
    "device"
   ]
  },
  {
   "cell_type": "code",
   "execution_count": 3,
   "metadata": {},
   "outputs": [],
   "source": [
    "def base_dist():\n",
    "    return Normal(\n",
    "        loc=torch.zeros(2, device=device),\n",
    "        scale=torch.ones(2, device=device),\n",
    "    )"
   ]
  },
  {
   "cell_type": "code",
   "execution_count": 4,
   "metadata": {},
   "outputs": [],
   "source": [
    "batch_size = 32\n",
    "dset = 'two_moons'\n",
    "Data = Data(dset +'.csv')\n",
    "d = Data.read_csv().to(device)\n",
    "\n",
    "train_dataloader, test_dataloader = Data.return_dataloaders(batch_size = batch_size)\n",
    "\n",
    "num_batches = train_dataloader.__len__()\n",
    " "
   ]
  },
  {
   "cell_type": "code",
   "execution_count": 5,
   "metadata": {},
   "outputs": [
    {
     "data": {
      "text/plain": [
       "<matplotlib.collections.PathCollection at 0x7f8f15df05b0>"
      ]
     },
     "execution_count": 5,
     "metadata": {},
     "output_type": "execute_result"
    },
    {
     "data": {
      "image/png": "[encoded data removed]",
      "text/plain": [
       "<Figure size 432x288 with 1 Axes>"
      ]
     },
     "metadata": {
      "needs_background": "light"
     },
     "output_type": "display_data"
    }
   ],
   "source": [
    "Data.plot_scatter()"
   ]
  },
  {
   "cell_type": "markdown",
   "metadata": {},
   "source": [
    "## CNF"
   ]
  },
  {
   "cell_type": "code",
   "execution_count": 6,
   "metadata": {},
   "outputs": [
    {
     "data": {
      "text/plain": [
       "'\\nt1 sample \\nflow(t1) = t0\\nt1_ = t0 -log p diff t0\\n\\nprob(t1_) as high as possible \\n\\n'"
      ]
     },
     "execution_count": 6,
     "metadata": {},
     "output_type": "execute_result"
    }
   ],
   "source": [
    "'''\n",
    "t1 sample \n",
    "flow(t1) = t0\n",
    "t1_ = t0 -log p diff t0\n",
    "\n",
    "prob(t1_) as high as possible \n",
    "\n",
    "'''"
   ]
  },
  {
   "cell_type": "code",
   "execution_count": 7,
   "metadata": {},
   "outputs": [],
   "source": [
    "# model and flow parameters\n",
    "hidden_dim = 32\n",
    "width      = 64\n",
    "t0 = 0  # flow start time\n",
    "t1 = 1  # flow end time\n",
    "\n",
    "net = HyperNetwork(in_out_dim=2, hidden_dim=hidden_dim, width=width)"
   ]
  },
  {
   "cell_type": "code",
   "execution_count": 8,
   "metadata": {},
   "outputs": [],
   "source": [
    "flow_cnf = build_flow(name = 'continuous', net = net,  dim= 1, device = device).flow.to(device)"
   ]
  },
  {
   "cell_type": "code",
   "execution_count": 9,
   "metadata": {
    "scrolled": true
   },
   "outputs": [
    {
     "data": {
      "text/plain": [
       "Flow(\n",
       "  (flow): ModuleList(\n",
       "    (0): CNF(\n",
       "      (net): HyperNetwork(\n",
       "        (fc1): Linear(in_features=1, out_features=32, bias=True)\n",
       "        (fc2): Linear(in_features=32, out_features=32, bias=True)\n",
       "        (fc3): Linear(in_features=32, out_features=448, bias=True)\n",
       "      )\n",
       "    )\n",
       "  )\n",
       ")"
      ]
     },
     "execution_count": 9,
     "metadata": {},
     "output_type": "execute_result"
    }
   ],
   "source": [
    "flow_cnf"
   ]
  },
  {
   "cell_type": "code",
   "execution_count": 10,
   "metadata": {
    "scrolled": true
   },
   "outputs": [
    {
     "name": "stdout",
     "output_type": "stream",
     "text": [
      "Training...\n",
      "Epoch: 1/100, Loss: 2.148\n",
      "Epoch: 2/100, Loss: 1.201\n",
      "Epoch: 3/100, Loss: 0.664\n",
      "Epoch: 4/100, Loss: 0.304\n",
      "Epoch: 5/100, Loss: 0.161\n",
      "Epoch: 6/100, Loss: -0.206\n",
      "Epoch: 7/100, Loss: -0.377\n",
      "Epoch: 8/100, Loss: -0.463\n",
      "Epoch: 9/100, Loss: -0.640\n",
      "Epoch: 10/100, Loss: -0.811\n",
      "Epoch: 11/100, Loss: -0.581\n",
      "Epoch: 12/100, Loss: -0.516\n",
      "Epoch: 13/100, Loss: -0.723\n",
      "Epoch: 14/100, Loss: -1.042\n",
      "Epoch: 15/100, Loss: -0.624\n",
      "Epoch: 16/100, Loss: -0.880\n",
      "Epoch: 17/100, Loss: -1.133\n",
      "Epoch: 18/100, Loss: -1.202\n",
      "Epoch: 19/100, Loss: -1.186\n",
      "Epoch: 20/100, Loss: -1.165\n",
      "Epoch: 21/100, Loss: -1.311\n",
      "Epoch: 22/100, Loss: -0.824\n",
      "Epoch: 23/100, Loss: -1.178\n",
      "Epoch: 24/100, Loss: -1.318\n",
      "Epoch: 25/100, Loss: -1.047\n",
      "Epoch: 26/100, Loss: -0.986\n",
      "Epoch: 27/100, Loss: -1.244\n",
      "Epoch: 28/100, Loss: -1.290\n",
      "Epoch: 29/100, Loss: -1.364\n",
      "Epoch: 30/100, Loss: -1.326\n",
      "Epoch: 31/100, Loss: -1.330\n",
      "Epoch: 32/100, Loss: -1.241\n",
      "Epoch: 33/100, Loss: -1.236\n",
      "Epoch: 34/100, Loss: -0.960\n",
      "Epoch: 35/100, Loss: -1.178\n",
      "Epoch: 36/100, Loss: -1.341\n",
      "Epoch: 37/100, Loss: -1.156\n",
      "Epoch: 38/100, Loss: -1.277\n",
      "Epoch: 39/100, Loss: -0.917\n",
      "Epoch: 40/100, Loss: -1.088\n",
      "Epoch: 41/100, Loss: -1.137\n",
      "Epoch: 42/100, Loss: -1.452\n",
      "Epoch: 43/100, Loss: -1.643\n",
      "Epoch: 44/100, Loss: -1.371\n",
      "Epoch: 45/100, Loss: -1.567\n",
      "Epoch: 46/100, Loss: -1.271\n",
      "Epoch: 47/100, Loss: -1.332\n",
      "Epoch: 48/100, Loss: -1.532\n",
      "Epoch: 49/100, Loss: -1.650\n",
      "Epoch: 50/100, Loss: -1.548\n",
      "Epoch: 51/100, Loss: -1.650\n",
      "Epoch: 52/100, Loss: -0.819\n",
      "Epoch: 53/100, Loss: -1.499\n",
      "Epoch: 54/100, Loss: -1.431\n",
      "Epoch: 55/100, Loss: -1.300\n",
      "Epoch: 56/100, Loss: -1.323\n",
      "Epoch: 57/100, Loss: -1.208\n",
      "Epoch: 58/100, Loss: -1.519\n",
      "Epoch: 59/100, Loss: -1.643\n",
      "Epoch: 60/100, Loss: -1.691\n",
      "Epoch: 61/100, Loss: -1.579\n",
      "Epoch: 62/100, Loss: -1.914\n",
      "Epoch: 63/100, Loss: -0.720\n",
      "Epoch: 64/100, Loss: -1.297\n",
      "Epoch: 65/100, Loss: -1.517\n",
      "Epoch: 66/100, Loss: -1.459\n",
      "Epoch: 67/100, Loss: -1.488\n",
      "Epoch: 68/100, Loss: -1.760\n",
      "Epoch: 69/100, Loss: -1.432\n",
      "Epoch: 70/100, Loss: -1.604\n",
      "Epoch: 71/100, Loss: -1.168\n",
      "Epoch: 72/100, Loss: -1.243\n",
      "Epoch: 73/100, Loss: -1.619\n",
      "Epoch: 74/100, Loss: -1.630\n",
      "Epoch: 75/100, Loss: -1.576\n",
      "Epoch: 76/100, Loss: -1.545\n",
      "Epoch: 77/100, Loss: -1.776\n",
      "Epoch: 78/100, Loss: -1.852\n",
      "Epoch: 79/100, Loss: -1.462\n",
      "Epoch: 80/100, Loss: -1.311\n",
      "Epoch: 81/100, Loss: -1.412\n",
      "Epoch: 82/100, Loss: -1.772\n",
      "Epoch: 83/100, Loss: -1.538\n",
      "Epoch: 84/100, Loss: -1.588\n",
      "Epoch: 85/100, Loss: -1.540\n",
      "Epoch: 86/100, Loss: -1.311\n",
      "Epoch: 87/100, Loss: -1.737\n",
      "Epoch: 88/100, Loss: -1.673\n",
      "Epoch: 89/100, Loss: -1.931\n",
      "Epoch: 90/100, Loss: -1.737\n",
      "Epoch: 91/100, Loss: -1.733\n",
      "Epoch: 92/100, Loss: -1.578\n",
      "Epoch: 93/100, Loss: -1.872\n",
      "Epoch: 94/100, Loss: -1.485\n",
      "Epoch: 95/100, Loss: -1.524\n",
      "Epoch: 96/100, Loss: -1.473\n",
      "Epoch: 97/100, Loss: -1.492\n",
      "Epoch: 98/100, Loss: -1.716\n",
      "Epoch: 99/100, Loss: -1.745\n",
      "Training takes  1.4468037518527772  hrs\n"
     ]
    }
   ],
   "source": [
    "start  = time.time()\n",
    "\n",
    "#Train\n",
    "\n",
    "optimizer = torch.optim.Adam(flow_cnf.parameters(), lr=3e-3)\n",
    "\n",
    "epochs = 100 #300\n",
    "\n",
    "print('Training...')\n",
    "flow_cnf = flow_cnf.train()\n",
    "ts = torch.tensor([t1, t0]).type(torch.float32).to(device) # for training, we flow the samples backward (in time) \n",
    "a=0\n",
    "z0=[]\n",
    "\n",
    "for epoch in range(1, epochs):\n",
    "    loss_sum = 0.0\n",
    "    for i, x in enumerate(train_dataloader):\n",
    "        x1 = x.to(device)\n",
    "        optimizer.zero_grad()\n",
    "        a+= x1.size()[0]\n",
    "        # initialize initial densities\n",
    "        logp_diff_t1 = torch.zeros(x1.size()[0], 1).type(torch.float32).to(device)\n",
    "\n",
    "        # compute the backward solutions\n",
    "        ip = (ts, x1, logp_diff_t1)\n",
    "        z_t,  logp_diff_t  = flow_cnf.flow_outputs(ip) # outputs time first\n",
    "        z_t0, logp_diff_t0 = z_t[-1], logp_diff_t[-1]\n",
    "        z0.append(z_t0.detach().cpu())\n",
    "\n",
    "        # compute the density of each sample\n",
    "        logp_x = base_dist().log_prob(z_t0).to(device) - logp_diff_t0 #.view(-1)\n",
    "        loss   = -logp_x.mean(0)\n",
    "        loss.sum().backward()\n",
    "        optimizer.step()\n",
    "        loss_sum += loss.sum().detach().cpu().item()\n",
    "        \n",
    "    if epoch %1 == 0 :    \n",
    "        print('Epoch: {}/{}, Loss: {:.3f}'.format(epoch, epochs, loss_sum/len(train_dataloader)))\n",
    "flow_cnf = flow_cnf.eval()\n",
    "\n",
    "end = time.time()\n",
    "print('Training takes ', (end-start)/3600, ' hrs')\n",
    "        \n"
   ]
  },
  {
   "cell_type": "code",
   "execution_count": 11,
   "metadata": {
    "scrolled": false
   },
   "outputs": [
    {
     "data": {
      "image/png": "[encoded data removed]",
      "text/plain": [
       "<Figure size 1872x864 with 2 Axes>"
      ]
     },
     "metadata": {
      "needs_background": "light"
     },
     "output_type": "display_data"
    }
   ],
   "source": [
    "z = flow_cnf.sample(450)[0]\n",
    "x_dash = flow_cnf.sample(450)[1]\n",
    "\n",
    "fig = Data.plot_samples(z, x_dash, r'z ~ p(z)', r'X = g(z)')\n",
    "fig.savefig('results/CNF_'+ dset +'_1.pdf')"
   ]
  },
  {
   "cell_type": "markdown",
   "metadata": {},
   "source": [
    "## Back to prior space"
   ]
  },
  {
   "cell_type": "code",
   "execution_count": 12,
   "metadata": {},
   "outputs": [
    {
     "data": {
      "image/png": "[encoded data removed]",
      "text/plain": [
       "<Figure size 1872x864 with 2 Axes>"
      ]
     },
     "metadata": {
      "needs_background": "light"
     },
     "output_type": "display_data"
    }
   ],
   "source": [
    "### After training\n",
    "\n",
    "logp_diff_t1 = torch.zeros(d.size()[0], 1).type(torch.float32).to(device) \n",
    "\n",
    "ip = (ts, d, logp_diff_t1)\n",
    "z_t,  logp_diff_t  = flow_cnf.flow_outputs(ip) # outputs time first\n",
    "z_t0, _ = z_t[-1], logp_diff_t[-1]\n",
    "\n",
    "fig = Data.plot_samples(d, z_t0, r'X ~ p(X)', r'z = f(X)')\n",
    "fig.savefig('results/CNF_'+ dset +'_2.pdf'')"
   ]
  },
  {
   "cell_type": "code",
   "execution_count": null,
   "metadata": {},
   "outputs": [],
   "source": []
  }
 ],
 "metadata": {
  "kernelspec": {
   "display_name": "Python [conda env:lampe]",
   "language": "python",
   "name": "conda-env-lampe-py"
  },
  "language_info": {
   "codemirror_mode": {
    "name": "ipython",
    "version": 3
   },
   "file_extension": ".py",
   "mimetype": "text/x-python",
   "name": "python",
   "nbconvert_exporter": "python",
   "pygments_lexer": "ipython3",
   "version": "3.9.7"
  }
 },
 "nbformat": 4,
 "nbformat_minor": 4
}
